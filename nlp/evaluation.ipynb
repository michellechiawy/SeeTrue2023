{
 "cells": [
  {
   "cell_type": "code",
   "execution_count": null,
   "id": "2f3a8fd1-25a9-426d-a6be-c93b750cbcb8",
   "metadata": {},
   "outputs": [],
   "source": [
    "import pandas as pd\n",
    "import os"
   ]
  },
  {
   "cell_type": "code",
   "execution_count": null,
   "id": "47a53036-31ab-4374-bf15-a4dca17a7cbf",
   "metadata": {},
   "outputs": [],
   "source": [
    "# Load data from data folder\n",
    "\n",
    "def get_data(file_path):\n",
    "    if os.path.exists(file_path):    \n",
    "        print(f'reading {file_path}')\n",
    "        df = pd.read_csv(file_path, encoding=\"ISO-8859-1\")\n",
    "        df = df.dropna()\n",
    "        return df\n",
    "    else:\n",
    "        print(\"Given file doesn't exist\")\n",
    "        return False\n",
    "\n",
    "current_path = os.getcwd()\n",
    "folder_path = current_path + \"/evaluation\"\n",
    "ans_file_path = folder_path + \"/ans.csv\"\n",
    "test_file_path = folder_path + \"/submission_group_no.csv\"\n",
    "\n",
    "df_ans = get_data(ans_file_path)\n",
    "df_test = get_data(test_file_path)"
   ]
  },
  {
   "cell_type": "code",
   "execution_count": null,
   "id": "ccc00f0a-9a15-4942-9c9b-2f9789c8dd22",
   "metadata": {},
   "outputs": [],
   "source": [
    "no_match = 'no match'\n",
    "total_acc_test = 0\n",
    "\n",
    "def findTestCategory(i):\n",
    "    index = next(iter(df_test[df_test['index'] == i]['category']), no_match)\n",
    "    return index\n",
    "\n",
    "\n",
    "for i in range(0, len(df_ans), 1):\n",
    "    test_cat = findTestCategory(i)\n",
    "    if (test_cat != no_match):\n",
    "        if (test_cat.casefold() == df_ans._get_value(i, 'category').casefold()):\n",
    "            total_acc_test += 1\n",
    "\n",
    "acc = total_acc_test / len(df_ans)\n",
    "print(f'accuracy: {acc} matched records: {total_acc_test}')"
   ]
  }
 ],
 "metadata": {
  "kernelspec": {
   "display_name": "Python 3.9.12 ('st')",
   "language": "python",
   "name": "python3"
  },
  "language_info": {
   "codemirror_mode": {
    "name": "ipython",
    "version": 3
   },
   "file_extension": ".py",
   "mimetype": "text/x-python",
   "name": "python",
   "nbconvert_exporter": "python",
   "pygments_lexer": "ipython3",
   "version": "3.11.2"
  },
  "vscode": {
   "interpreter": {
    "hash": "4c302afcd7a3157e620efd7ea797ee7b41fa9c981bbd596d56982887848f27f9"
   }
  }
 },
 "nbformat": 4,
 "nbformat_minor": 5
}
