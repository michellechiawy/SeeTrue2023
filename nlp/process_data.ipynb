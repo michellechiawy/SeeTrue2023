{
 "cells": [
  {
   "cell_type": "code",
   "execution_count": 2,
   "metadata": {},
   "outputs": [],
   "source": [
    "import pandas as pd\n",
    "import os"
   ]
  },
  {
   "cell_type": "code",
   "execution_count": null,
   "metadata": {},
   "outputs": [],
   "source": [
    "def preprocess(output):\n",
    "    if os.path.isdir(output):\n",
    "        if not os.listdir(output):\n",
    "            print(\"Directory is empty\")\n",
    "            return True\n",
    "        else:    \n",
    "            print(\"Directory is not empty\")\n",
    "            for file in os.listdir(output):\n",
    "                file_path = f\"{output}/{file}\"\n",
    "                os.remove(file_path)\n",
    "                print(f'removed {file_path}')\n",
    "            return True\n",
    "    else:\n",
    "        print(\"Given directory doesn't exist\")\n",
    "        return False\n",
    "\n",
    "def clean_text_file(input, output):\n",
    "    for file in os.listdir(input):\n",
    "        input_file_path = f\"{input}/{file}\"\n",
    "        print(f'processing {file}')\n",
    "\n",
    "        df=pd.read_csv(input_file_path, encoding=\"ISO-8859-1\")\n",
    "        #df=pd.read_csv(input_file_path, encoding=\"latin-1\")\n",
    "\n",
    "        print(f'before removing duplicates {df.shape}')\n",
    "        df=df.drop_duplicates()\n",
    "        print(f'after removing duplicates {df.shape}')\n",
    "        df['text'] = df['text'].str.replace('http\\S+|www.\\S+', '', case=False, regex=True)\n",
    "        df['text'] = df['text'].str.encode('ascii', 'ignore').str.decode('ascii')\n",
    "\n",
    "        output_file_path = f\"{output}/{file}\"\n",
    "        df.to_csv(output_file_path, index=False)\n",
    "        print(f'created {output_file_path}')\n",
    "\n",
    "current_path = os.getcwd()\n",
    "input_path = current_path + \"/dirty\"\n",
    "output_path = current_path + \"/clean\"\n",
    "if(preprocess(output_path)):\n",
    "    clean_text_file(input_path, output_path)"
   ]
  }
 ],
 "metadata": {
  "kernelspec": {
   "display_name": "st",
   "language": "python",
   "name": "python3"
  },
  "language_info": {
   "codemirror_mode": {
    "name": "ipython",
    "version": 3
   },
   "file_extension": ".py",
   "mimetype": "text/x-python",
   "name": "python",
   "nbconvert_exporter": "python",
   "pygments_lexer": "ipython3",
   "version": "3.9.12"
  },
  "orig_nbformat": 4,
  "vscode": {
   "interpreter": {
    "hash": "4c302afcd7a3157e620efd7ea797ee7b41fa9c981bbd596d56982887848f27f9"
   }
  }
 },
 "nbformat": 4,
 "nbformat_minor": 2
}
