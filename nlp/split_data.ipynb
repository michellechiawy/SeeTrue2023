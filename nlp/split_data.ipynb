{
 "cells": [
  {
   "cell_type": "code",
   "execution_count": null,
   "id": "f51a902e-3fd1-478d-8655-51f6a420106c",
   "metadata": {},
   "outputs": [],
   "source": [
    "import pandas as pd\n",
    "import numpy as np\n",
    "import os"
   ]
  },
  {
   "cell_type": "code",
   "execution_count": null,
   "id": "d5bc23de-e227-4330-943f-4d8a506934fd",
   "metadata": {},
   "outputs": [],
   "source": [
    "# Load data from folder\n",
    "def get_data(folder_path):\n",
    "    os.chdir(folder_path)\n",
    "    df = pd.DataFrame()\n",
    "\n",
    "    for file in os.listdir(folder_path):\n",
    "        file_path = f\"{folder_path}/{file}\"\n",
    "        print(f'reading {file_path}')\n",
    "        data=pd.read_csv(file_path, encoding=\"ISO-8859-1\")\n",
    "        data = data.dropna()\n",
    "        df = pd.concat([df, data])\n",
    "\n",
    "    return df\n",
    "\n",
    "current_path = os.getcwd()\n",
    "folder_path = current_path + \"/dirty\"\n",
    "df = get_data(folder_path)\n",
    "df.shape"
   ]
  },
  {
   "cell_type": "code",
   "execution_count": null,
   "id": "9582546b-8f9b-4c46-b7b2-a2eb2a9ebbd1",
   "metadata": {},
   "outputs": [],
   "source": [
    "# Visualise data\n",
    "df.groupby(['category']).size().plot.bar()"
   ]
  },
  {
   "cell_type": "code",
   "execution_count": null,
   "id": "b9fb3fbd-537a-474a-8691-5126ebce1177",
   "metadata": {},
   "outputs": [],
   "source": [
    "# Preprocessing\n",
    "def preprocess_file(file_path):\n",
    "    if os.path.exists(file_path):    \n",
    "        print(\"File exists\")\n",
    "        os.remove(file_path)\n",
    "        print(f'removed {file_path}')\n",
    "        return True\n",
    "    else:\n",
    "        print(\"Given file doesn't exist\")\n",
    "        return False\n",
    "\n",
    "def preprocess_folder(folder_path):\n",
    "    if os.path.isdir(folder_path):\n",
    "        if not os.listdir(folder_path):\n",
    "            print(\"Directory is empty\")\n",
    "            return True\n",
    "        else:    \n",
    "            print(\"Directory is not empty\")\n",
    "            for file in os.listdir(folder_path):\n",
    "                file_path = f\"{folder_path}/{file}\"\n",
    "                os.remove(file_path)\n",
    "                #print(f'removed {file_path}')\n",
    "            return True\n",
    "    else:\n",
    "        print(\"Given directory doesn't exist\")\n",
    "        return False"
   ]
  },
  {
   "cell_type": "code",
   "execution_count": null,
   "id": "4970d38a",
   "metadata": {},
   "outputs": [],
   "source": [
    "# Create answer and test files\n",
    "def create_evaluation_files(df_val):\n",
    "    current_path = os.getcwd()\n",
    "    ans_file_name = \"/../evaluation/ans.csv\"\n",
    "    test_file_name = \"/../evaluation/test.csv\"\n",
    "    ans_file_path = current_path + ans_file_name\n",
    "    test_file_path = current_path + test_file_name\n",
    "    preprocess_file(ans_file_path)\n",
    "    preprocess_file(test_file_path)\n",
    "\n",
    "    df_val[\"index\"] = np.arange(len(df_val))\n",
    "    df_val = df_val.set_index('index')\n",
    "    df_val.to_csv(ans_file_path, encoding=\"ISO-8859-1\")\n",
    "    print(f'created {ans_file_path}')\n",
    "    # print(df_val.head(n=10))\n",
    "\n",
    "    df_val['category'] = df_val['category'].replace(['REAL'], ['FAKE'])\n",
    "    df_val.to_csv(test_file_path, encoding=\"ISO-8859-1\")\n",
    "    print(f'created {test_file_path}')"
   ]
  },
  {
   "cell_type": "code",
   "execution_count": null,
   "id": "3aeeef42",
   "metadata": {},
   "outputs": [],
   "source": [
    "# Organise remaining data into files of 5000 rows each\n",
    "def create_data_files(df_full):\n",
    "    current_path = os.getcwd()\n",
    "    file_name = \"/../data\"\n",
    "    folder_path = current_path + file_name\n",
    "    preprocess_folder(folder_path)\n",
    "\n",
    "    df_full[\"index\"] = np.arange(len(df_full))\n",
    "    df_full = df_full.set_index('index')\n",
    "    # print(df_full.head(n=10))\n",
    "\n",
    "    size = 5000\n",
    "    list_of_dfs = [df_full.loc[i:i+size-1,:] for i in range(0, len(df_full),size)]\n",
    "    for i, df in enumerate(list_of_dfs, 1):\n",
    "        filename = \"data_{}.csv\".format(i)\n",
    "        file_path = os.path.join(folder_path, filename)\n",
    "        df.to_csv(file_path, encoding=\"ISO-8859-1\")\n",
    "        print(f'{df.shape} {file_path}')"
   ]
  },
  {
   "cell_type": "code",
   "execution_count": null,
   "id": "432d36ae",
   "metadata": {},
   "outputs": [],
   "source": [
    "# Split data into training and evaluation set with the proportion of 90:10\n",
    "np.random.seed(112)\n",
    "df_full, df_val = np.split(df.sample(frac=1, random_state=42), [int(.9*len(df))])\n",
    "print(f'full {df_full.shape}, eval {df_val.shape}')\n",
    "\n",
    "create_evaluation_files(df_val)\n",
    "create_data_files(df_full)"
   ]
  }
 ],
 "metadata": {
  "kernelspec": {
   "display_name": "Python 3.9.12 ('st')",
   "language": "python",
   "name": "python3"
  },
  "language_info": {
   "codemirror_mode": {
    "name": "ipython",
    "version": 3
   },
   "file_extension": ".py",
   "mimetype": "text/x-python",
   "name": "python",
   "nbconvert_exporter": "python",
   "pygments_lexer": "ipython3",
   "version": "3.11.2"
  },
  "vscode": {
   "interpreter": {
    "hash": "4c302afcd7a3157e620efd7ea797ee7b41fa9c981bbd596d56982887848f27f9"
   }
  }
 },
 "nbformat": 4,
 "nbformat_minor": 5
}
